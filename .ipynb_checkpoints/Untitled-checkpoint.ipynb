{
 "cells": [
  {
   "cell_type": "code",
   "execution_count": 1,
   "id": "0a76389d",
   "metadata": {},
   "outputs": [],
   "source": [
    "import json\n",
    "import pandas as pd\n",
    "import numpy as np"
   ]
  },
  {
   "cell_type": "code",
   "execution_count": 25,
   "id": "d10c71df",
   "metadata": {},
   "outputs": [],
   "source": [
    "# file_dir = 'C://Users/Username/DataBootcamp/' \n",
    "file_dir = 'C:\\\\Users\\janno\\Desktop\\Data Analysis Projects\\Movies-ETL'"
   ]
  },
  {
   "cell_type": "code",
   "execution_count": 26,
   "id": "96873f70",
   "metadata": {},
   "outputs": [
    {
     "data": {
      "text/plain": [
       "'C:\\\\Users\\\\janno\\\\Desktop\\\\Data Analysis Projects\\\\Movies-ETL\\\\wikipedia-movies.json'"
      ]
     },
     "execution_count": 26,
     "metadata": {},
     "output_type": "execute_result"
    }
   ],
   "source": [
    "f'{file_dir}\\wikipedia-movies.json' "
   ]
  },
  {
   "cell_type": "code",
   "execution_count": 27,
   "id": "13612eea",
   "metadata": {},
   "outputs": [],
   "source": [
    "with open('C:\\\\Users\\janno\\Desktop\\Data Analysis Projects\\Movies-ETL\\wikipedia-movies.json', mode='r') as file:\n",
    "    wiki_movies_raw = json.load(file)"
   ]
  },
  {
   "cell_type": "code",
   "execution_count": 28,
   "id": "31e574bd",
   "metadata": {},
   "outputs": [],
   "source": [
    "with open(f'{file_dir}/wikipedia-movies.json', mode='r') as file:\n",
    "    wiki_movies_raw = json.load(file)"
   ]
  },
  {
   "cell_type": "code",
   "execution_count": null,
   "id": "e199e399",
   "metadata": {},
   "outputs": [],
   "source": []
  }
 ],
 "metadata": {
  "kernelspec": {
   "display_name": "PythonData",
   "language": "python",
   "name": "pythondata"
  },
  "language_info": {
   "codemirror_mode": {
    "name": "ipython",
    "version": 3
   },
   "file_extension": ".py",
   "mimetype": "text/x-python",
   "name": "python",
   "nbconvert_exporter": "python",
   "pygments_lexer": "ipython3",
   "version": "3.7.13"
  }
 },
 "nbformat": 4,
 "nbformat_minor": 5
}
